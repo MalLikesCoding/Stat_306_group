{
 "cells": [
  {
   "cell_type": "code",
   "execution_count": 108,
   "id": "0db977ca-c862-4359-8e83-f77e4bf0fc44",
   "metadata": {},
   "outputs": [],
   "source": [
    "library(tidyverse)\n",
    "library(leaps)\n",
    "library(broom)\n",
    "library(repr)\n",
    "library(digest)\n",
    "library(faraway)\n",
    "library(mltools)\n",
    "library(glmnet)\n",
    "library(cowplot)\n",
    "library(readxl)\n",
    "library(GGally)\n",
    "library(infer)\n",
    "library(rsample)"
   ]
  },
  {
   "cell_type": "code",
   "execution_count": 112,
   "id": "6095f78d-b4bd-4a40-a527-b538953ac480",
   "metadata": {},
   "outputs": [
    {
     "data": {
      "text/html": [
       "<table class=\"dataframe\">\n",
       "<caption>A data.frame: 3 × 7</caption>\n",
       "<thead>\n",
       "\t<tr><th></th><th scope=col>rank</th><th scope=col>Youtuber</th><th scope=col>subscribers</th><th scope=col>video.views</th><th scope=col>video.count</th><th scope=col>category</th><th scope=col>started</th></tr>\n",
       "\t<tr><th></th><th scope=col>&lt;int&gt;</th><th scope=col>&lt;chr&gt;</th><th scope=col>&lt;chr&gt;</th><th scope=col>&lt;chr&gt;</th><th scope=col>&lt;chr&gt;</th><th scope=col>&lt;chr&gt;</th><th scope=col>&lt;int&gt;</th></tr>\n",
       "</thead>\n",
       "<tbody>\n",
       "\t<tr><th scope=row>1</th><td>1</td><td>T-Series                  </td><td>222,000,000</td><td>198,459,090,822</td><td>17,317</td><td>Music           </td><td>2006</td></tr>\n",
       "\t<tr><th scope=row>2</th><td>2</td><td><span style=white-space:pre-wrap>YouTube Movies            </span></td><td>154,000,000</td><td><span style=white-space:pre-wrap>0              </span></td><td><span style=white-space:pre-wrap>0     </span></td><td>Film &amp; Animation</td><td>2015</td></tr>\n",
       "\t<tr><th scope=row>3</th><td>3</td><td>Cocomelon - Nursery Rhymes</td><td>140,000,000</td><td>135,481,339,848</td><td>786   </td><td>Education       </td><td>2006</td></tr>\n",
       "</tbody>\n",
       "</table>\n"
      ],
      "text/latex": [
       "A data.frame: 3 × 7\n",
       "\\begin{tabular}{r|lllllll}\n",
       "  & rank & Youtuber & subscribers & video.views & video.count & category & started\\\\\n",
       "  & <int> & <chr> & <chr> & <chr> & <chr> & <chr> & <int>\\\\\n",
       "\\hline\n",
       "\t1 & 1 & T-Series                   & 222,000,000 & 198,459,090,822 & 17,317 & Music            & 2006\\\\\n",
       "\t2 & 2 & YouTube Movies             & 154,000,000 & 0               & 0      & Film \\& Animation & 2015\\\\\n",
       "\t3 & 3 & Cocomelon - Nursery Rhymes & 140,000,000 & 135,481,339,848 & 786    & Education        & 2006\\\\\n",
       "\\end{tabular}\n"
      ],
      "text/markdown": [
       "\n",
       "A data.frame: 3 × 7\n",
       "\n",
       "| <!--/--> | rank &lt;int&gt; | Youtuber &lt;chr&gt; | subscribers &lt;chr&gt; | video.views &lt;chr&gt; | video.count &lt;chr&gt; | category &lt;chr&gt; | started &lt;int&gt; |\n",
       "|---|---|---|---|---|---|---|---|\n",
       "| 1 | 1 | T-Series                   | 222,000,000 | 198,459,090,822 | 17,317 | Music            | 2006 |\n",
       "| 2 | 2 | YouTube Movies             | 154,000,000 | 0               | 0      | Film &amp; Animation | 2015 |\n",
       "| 3 | 3 | Cocomelon - Nursery Rhymes | 140,000,000 | 135,481,339,848 | 786    | Education        | 2006 |\n",
       "\n"
      ],
      "text/plain": [
       "  rank Youtuber                   subscribers video.views     video.count\n",
       "1 1    T-Series                   222,000,000 198,459,090,822 17,317     \n",
       "2 2    YouTube Movies             154,000,000 0               0          \n",
       "3 3    Cocomelon - Nursery Rhymes 140,000,000 135,481,339,848 786        \n",
       "  category         started\n",
       "1 Music            2006   \n",
       "2 Film & Animation 2015   \n",
       "3 Education        2006   "
      ]
     },
     "metadata": {},
     "output_type": "display_data"
    }
   ],
   "source": [
    "data1<-read.csv(\"most_subscribed.csv\")\n",
    "head(data1, 3)"
   ]
  },
  {
   "cell_type": "code",
   "execution_count": 113,
   "id": "2b08c36f-c737-4337-b536-bd0fe6d79888",
   "metadata": {},
   "outputs": [],
   "source": [
    "row_sub = apply(data1, 1, function(row) all(row !=0 ))\n",
    "data1 <- data1[row_sub,]\n",
    "data <- data1[data1$category %in% c(\"Gaming\", \"Music\", \"Entertainment\", \"People & Blogs\"),]\n"
   ]
  },
  {
   "cell_type": "code",
   "execution_count": 114,
   "id": "738f4c10-5195-4459-8f13-4d0eddb465f0",
   "metadata": {},
   "outputs": [],
   "source": [
    "data$subscribers<- as.numeric(gsub(\",\",\"\",data$subscribers))\n",
    "data$video.views<- as.numeric(gsub(\",\",\"\",data$video.views))\n",
    "data$video.count<- as.numeric(gsub(\",\",\"\",data$video.count))\n",
    "\n"
   ]
  },
  {
   "cell_type": "code",
   "execution_count": 120,
   "id": "632b1629-bbfc-4d97-98bc-775ad3960c27",
   "metadata": {},
   "outputs": [
    {
     "data": {
      "text/html": [
       "<table class=\"dataframe\">\n",
       "<caption>A data.frame: 3 × 5</caption>\n",
       "<thead>\n",
       "\t<tr><th></th><th scope=col>subscribers</th><th scope=col>video.views</th><th scope=col>video.count</th><th scope=col>category</th><th scope=col>started</th></tr>\n",
       "\t<tr><th></th><th scope=col>&lt;dbl&gt;</th><th scope=col>&lt;dbl&gt;</th><th scope=col>&lt;dbl&gt;</th><th scope=col>&lt;chr&gt;</th><th scope=col>&lt;int&gt;</th></tr>\n",
       "</thead>\n",
       "<tbody>\n",
       "\t<tr><th scope=row>1</th><td>2.22e+08</td><td>198459090822</td><td>17317</td><td>Music        </td><td>2006</td></tr>\n",
       "\t<tr><th scope=row>6</th><td>1.11e+08</td><td> 28469458228</td><td> 4497</td><td>Gaming       </td><td>2010</td></tr>\n",
       "\t<tr><th scope=row>7</th><td>1.02e+08</td><td> 16832456681</td><td>  726</td><td>Entertainment</td><td>2012</td></tr>\n",
       "</tbody>\n",
       "</table>\n"
      ],
      "text/latex": [
       "A data.frame: 3 × 5\n",
       "\\begin{tabular}{r|lllll}\n",
       "  & subscribers & video.views & video.count & category & started\\\\\n",
       "  & <dbl> & <dbl> & <dbl> & <chr> & <int>\\\\\n",
       "\\hline\n",
       "\t1 & 2.22e+08 & 198459090822 & 17317 & Music         & 2006\\\\\n",
       "\t6 & 1.11e+08 &  28469458228 &  4497 & Gaming        & 2010\\\\\n",
       "\t7 & 1.02e+08 &  16832456681 &   726 & Entertainment & 2012\\\\\n",
       "\\end{tabular}\n"
      ],
      "text/markdown": [
       "\n",
       "A data.frame: 3 × 5\n",
       "\n",
       "| <!--/--> | subscribers &lt;dbl&gt; | video.views &lt;dbl&gt; | video.count &lt;dbl&gt; | category &lt;chr&gt; | started &lt;int&gt; |\n",
       "|---|---|---|---|---|---|\n",
       "| 1 | 2.22e+08 | 198459090822 | 17317 | Music         | 2006 |\n",
       "| 6 | 1.11e+08 |  28469458228 |  4497 | Gaming        | 2010 |\n",
       "| 7 | 1.02e+08 |  16832456681 |   726 | Entertainment | 2012 |\n",
       "\n"
      ],
      "text/plain": [
       "  subscribers video.views  video.count category      started\n",
       "1 2.22e+08    198459090822 17317       Music         2006   \n",
       "6 1.11e+08     28469458228  4497       Gaming        2010   \n",
       "7 1.02e+08     16832456681   726       Entertainment 2012   "
      ]
     },
     "metadata": {},
     "output_type": "display_data"
    }
   ],
   "source": [
    "data<-data[,-c(0:1)]\n",
    "head(data,3)"
   ]
  },
  {
   "cell_type": "code",
   "execution_count": 122,
   "id": "e44141f2-fbeb-490b-94ff-d6318842b994",
   "metadata": {},
   "outputs": [
    {
     "data": {
      "text/html": [
       "<table class=\"dataframe\">\n",
       "<caption>A data.frame: 3 × 5</caption>\n",
       "<thead>\n",
       "\t<tr><th></th><th scope=col>subscribers</th><th scope=col>video.views</th><th scope=col>video.count</th><th scope=col>category</th><th scope=col>started</th></tr>\n",
       "\t<tr><th></th><th scope=col>&lt;dbl&gt;</th><th scope=col>&lt;dbl&gt;</th><th scope=col>&lt;dbl&gt;</th><th scope=col>&lt;chr&gt;</th><th scope=col>&lt;int&gt;</th></tr>\n",
       "</thead>\n",
       "<tbody>\n",
       "\t<tr><th scope=row>199</th><td>24700000</td><td>3060187306</td><td>1914</td><td>Entertainment </td><td>2017</td></tr>\n",
       "\t<tr><th scope=row>212</th><td>24100000</td><td>2242631303</td><td>  93</td><td>Entertainment </td><td>2012</td></tr>\n",
       "\t<tr><th scope=row>215</th><td>24000000</td><td>1821164544</td><td> 513</td><td>People &amp; Blogs</td><td>2012</td></tr>\n",
       "</tbody>\n",
       "</table>\n"
      ],
      "text/latex": [
       "A data.frame: 3 × 5\n",
       "\\begin{tabular}{r|lllll}\n",
       "  & subscribers & video.views & video.count & category & started\\\\\n",
       "  & <dbl> & <dbl> & <dbl> & <chr> & <int>\\\\\n",
       "\\hline\n",
       "\t199 & 24700000 & 3060187306 & 1914 & Entertainment  & 2017\\\\\n",
       "\t212 & 24100000 & 2242631303 &   93 & Entertainment  & 2012\\\\\n",
       "\t215 & 24000000 & 1821164544 &  513 & People \\& Blogs & 2012\\\\\n",
       "\\end{tabular}\n"
      ],
      "text/markdown": [
       "\n",
       "A data.frame: 3 × 5\n",
       "\n",
       "| <!--/--> | subscribers &lt;dbl&gt; | video.views &lt;dbl&gt; | video.count &lt;dbl&gt; | category &lt;chr&gt; | started &lt;int&gt; |\n",
       "|---|---|---|---|---|---|\n",
       "| 199 | 24700000 | 3060187306 | 1914 | Entertainment  | 2017 |\n",
       "| 212 | 24100000 | 2242631303 |   93 | Entertainment  | 2012 |\n",
       "| 215 | 24000000 | 1821164544 |  513 | People &amp; Blogs | 2012 |\n",
       "\n"
      ],
      "text/plain": [
       "    subscribers video.views video.count category       started\n",
       "199 24700000    3060187306  1914        Entertainment  2017   \n",
       "212 24100000    2242631303    93        Entertainment  2012   \n",
       "215 24000000    1821164544   513        People & Blogs 2012   "
      ]
     },
     "metadata": {},
     "output_type": "display_data"
    }
   ],
   "source": [
    "#split data into test and training\n",
    "split_data<-initial_split(data, prop=0.7, strata=video.views)\n",
    "data_train<-training(split_data)\n",
    "data_test<-testing(split_data)\n",
    "head(data_train, 3)"
   ]
  },
  {
   "cell_type": "code",
   "execution_count": 123,
   "id": "4ff251aa-942a-47df-9e25-17d3d610be2b",
   "metadata": {},
   "outputs": [],
   "source": [
    "full_interaction<-lm(video.views~video.count*subscribers+video.count*started+subscribers*started+video.count+subscribers+category+started+video.count*category+started*category+subscribers*category, data=data_train)\n",
    "with_interaction<-lm(video.views~video.count+subscribers+category+started+video.count*category+started*category+subscribers*category, data=data_train)\n",
    "new_model<-lm(video.views~video.count*subscribers+video.count+subscribers+category+started+video.count*category+started*category+subscribers*category, data=data_train)\n"
   ]
  },
  {
   "cell_type": "code",
   "execution_count": 124,
   "id": "d6295ff5-575a-4709-9473-9a1de4fddc58",
   "metadata": {},
   "outputs": [
    {
     "data": {
      "text/html": [
       "<table class=\"dataframe\">\n",
       "<caption>A tibble: 8 × 6</caption>\n",
       "<thead>\n",
       "\t<tr><th scope=col>n_input_variables</th><th scope=col>RSQ</th><th scope=col>RSS</th><th scope=col>ADJ.R2</th><th scope=col>Cp</th><th scope=col>BIC</th></tr>\n",
       "\t<tr><th scope=col>&lt;int&gt;</th><th scope=col>&lt;dbl&gt;</th><th scope=col>&lt;dbl&gt;</th><th scope=col>&lt;dbl&gt;</th><th scope=col>&lt;dbl&gt;</th><th scope=col>&lt;dbl&gt;</th></tr>\n",
       "</thead>\n",
       "<tbody>\n",
       "\t<tr><td>1</td><td>0.5153195</td><td>1.631513e+22</td><td>0.5142970</td><td>138.28700</td><td>-332.4195</td></tr>\n",
       "\t<tr><td>2</td><td>0.5483323</td><td>1.520387e+22</td><td>0.5464225</td><td> 98.71878</td><td>-359.8326</td></tr>\n",
       "\t<tr><td>3</td><td>0.5699599</td><td>1.447585e+22</td><td>0.5672266</td><td> 73.48640</td><td>-377.0237</td></tr>\n",
       "\t<tr><td>4</td><td>0.5831452</td><td>1.403201e+22</td><td>0.5796051</td><td> 58.88399</td><td>-385.6812</td></tr>\n",
       "\t<tr><td>5</td><td>0.6092206</td><td>1.315427e+22</td><td>0.6050633</td><td> 28.05118</td><td>-410.2628</td></tr>\n",
       "\t<tr><td>6</td><td>0.6181185</td><td>1.285475e+22</td><td>0.6132331</td><td> 18.84726</td><td>-415.0611</td></tr>\n",
       "\t<tr><td>7</td><td>0.6258758</td><td>1.259363e+22</td><td>0.6202799</td><td> 11.07969</td><td>-418.6643</td></tr>\n",
       "\t<tr><td>8</td><td>0.6279470</td><td>1.252391e+22</td><td>0.6215735</td><td> 10.47171</td><td>-415.1415</td></tr>\n",
       "</tbody>\n",
       "</table>\n"
      ],
      "text/latex": [
       "A tibble: 8 × 6\n",
       "\\begin{tabular}{llllll}\n",
       " n\\_input\\_variables & RSQ & RSS & ADJ.R2 & Cp & BIC\\\\\n",
       " <int> & <dbl> & <dbl> & <dbl> & <dbl> & <dbl>\\\\\n",
       "\\hline\n",
       "\t 1 & 0.5153195 & 1.631513e+22 & 0.5142970 & 138.28700 & -332.4195\\\\\n",
       "\t 2 & 0.5483323 & 1.520387e+22 & 0.5464225 &  98.71878 & -359.8326\\\\\n",
       "\t 3 & 0.5699599 & 1.447585e+22 & 0.5672266 &  73.48640 & -377.0237\\\\\n",
       "\t 4 & 0.5831452 & 1.403201e+22 & 0.5796051 &  58.88399 & -385.6812\\\\\n",
       "\t 5 & 0.6092206 & 1.315427e+22 & 0.6050633 &  28.05118 & -410.2628\\\\\n",
       "\t 6 & 0.6181185 & 1.285475e+22 & 0.6132331 &  18.84726 & -415.0611\\\\\n",
       "\t 7 & 0.6258758 & 1.259363e+22 & 0.6202799 &  11.07969 & -418.6643\\\\\n",
       "\t 8 & 0.6279470 & 1.252391e+22 & 0.6215735 &  10.47171 & -415.1415\\\\\n",
       "\\end{tabular}\n"
      ],
      "text/markdown": [
       "\n",
       "A tibble: 8 × 6\n",
       "\n",
       "| n_input_variables &lt;int&gt; | RSQ &lt;dbl&gt; | RSS &lt;dbl&gt; | ADJ.R2 &lt;dbl&gt; | Cp &lt;dbl&gt; | BIC &lt;dbl&gt; |\n",
       "|---|---|---|---|---|---|\n",
       "| 1 | 0.5153195 | 1.631513e+22 | 0.5142970 | 138.28700 | -332.4195 |\n",
       "| 2 | 0.5483323 | 1.520387e+22 | 0.5464225 |  98.71878 | -359.8326 |\n",
       "| 3 | 0.5699599 | 1.447585e+22 | 0.5672266 |  73.48640 | -377.0237 |\n",
       "| 4 | 0.5831452 | 1.403201e+22 | 0.5796051 |  58.88399 | -385.6812 |\n",
       "| 5 | 0.6092206 | 1.315427e+22 | 0.6050633 |  28.05118 | -410.2628 |\n",
       "| 6 | 0.6181185 | 1.285475e+22 | 0.6132331 |  18.84726 | -415.0611 |\n",
       "| 7 | 0.6258758 | 1.259363e+22 | 0.6202799 |  11.07969 | -418.6643 |\n",
       "| 8 | 0.6279470 | 1.252391e+22 | 0.6215735 |  10.47171 | -415.1415 |\n",
       "\n"
      ],
      "text/plain": [
       "  n_input_variables RSQ       RSS          ADJ.R2    Cp        BIC      \n",
       "1 1                 0.5153195 1.631513e+22 0.5142970 138.28700 -332.4195\n",
       "2 2                 0.5483323 1.520387e+22 0.5464225  98.71878 -359.8326\n",
       "3 3                 0.5699599 1.447585e+22 0.5672266  73.48640 -377.0237\n",
       "4 4                 0.5831452 1.403201e+22 0.5796051  58.88399 -385.6812\n",
       "5 5                 0.6092206 1.315427e+22 0.6050633  28.05118 -410.2628\n",
       "6 6                 0.6181185 1.285475e+22 0.6132331  18.84726 -415.0611\n",
       "7 7                 0.6258758 1.259363e+22 0.6202799  11.07969 -418.6643\n",
       "8 8                 0.6279470 1.252391e+22 0.6215735  10.47171 -415.1415"
      ]
     },
     "metadata": {},
     "output_type": "display_data"
    }
   ],
   "source": [
    "#new model: think this is the model we should use: this has category interaction, and video.count*subscriber interaction\n",
    "# it was seen in the summary for lm that the interaction is significant \n",
    "new_model<-lm(video.views~video.count*subscribers+video.count+subscribers+category+started+video.count*category+started*category+subscribers*category, data=data_train)\n",
    "selection_model<-regsubsets(video.views~video.count*subscribers+video.count+subscribers+category+started+video.count*category+started*category+subscribers*category,\n",
    "           data=data_train, \n",
    "           method=\"forward\")\n",
    "selection<-summary(selection_model)\n",
    "\n",
    "data_summary_df <- tibble(\n",
    "     n_input_variables = 1:8,\n",
    "     RSQ = selection$rsq,\n",
    "     RSS = selection$rss,\n",
    "     ADJ.R2 = selection$adjr2,\n",
    "     Cp = selection$cp,\n",
    "     BIC = selection$bic,\n",
    " )\n",
    "data_summary_df"
   ]
  },
  {
   "cell_type": "code",
   "execution_count": 125,
   "id": "67a6f5d9-dc70-4945-bda8-f04bd2bb0699",
   "metadata": {},
   "outputs": [
    {
     "data": {
      "image/png": "[encoded data removed]",
      "text/plain": [
       "Plot with title “Cp for forward selection”"
      ]
     },
     "metadata": {
      "image/png": {
       "height": 420,
       "width": 420
      }
     },
     "output_type": "display_data"
    }
   ],
   "source": [
    "plot(summary(selection_model)$cp,\n",
    "  main = \"Cp for forward selection\",\n",
    "  xlab = \"Number of Input Variables\", ylab = \"Rsq\", type = \"b\", pch = 19,\n",
    "  col = \"red\"\n",
    ")"
   ]
  },
  {
   "cell_type": "code",
   "execution_count": 126,
   "id": "042019ff-06ae-4c5e-8d95-89843f367f7a",
   "metadata": {},
   "outputs": [
    {
     "data": {
      "text/html": [
       "<table class=\"dataframe\">\n",
       "<caption>A tibble: 1 × 12</caption>\n",
       "<thead>\n",
       "\t<tr><th scope=col>r.squared</th><th scope=col>adj.r.squared</th><th scope=col>sigma</th><th scope=col>statistic</th><th scope=col>p.value</th><th scope=col>df</th><th scope=col>logLik</th><th scope=col>AIC</th><th scope=col>BIC</th><th scope=col>deviance</th><th scope=col>df.residual</th><th scope=col>nobs</th></tr>\n",
       "\t<tr><th scope=col>&lt;dbl&gt;</th><th scope=col>&lt;dbl&gt;</th><th scope=col>&lt;dbl&gt;</th><th scope=col>&lt;dbl&gt;</th><th scope=col>&lt;dbl&gt;</th><th scope=col>&lt;dbl&gt;</th><th scope=col>&lt;dbl&gt;</th><th scope=col>&lt;dbl&gt;</th><th scope=col>&lt;dbl&gt;</th><th scope=col>&lt;dbl&gt;</th><th scope=col>&lt;dbl&gt;</th><th scope=col>&lt;dbl&gt;</th></tr>\n",
       "</thead>\n",
       "<tbody>\n",
       "\t<tr><td>0.635</td><td>0.623</td><td>5170449134</td><td>50.01</td><td>0</td><td>16</td><td>-11313.08</td><td>22662.17</td><td>22737.14</td><td>1.22707e+22</td><td>459</td><td>476</td></tr>\n",
       "</tbody>\n",
       "</table>\n"
      ],
      "text/latex": [
       "A tibble: 1 × 12\n",
       "\\begin{tabular}{llllllllllll}\n",
       " r.squared & adj.r.squared & sigma & statistic & p.value & df & logLik & AIC & BIC & deviance & df.residual & nobs\\\\\n",
       " <dbl> & <dbl> & <dbl> & <dbl> & <dbl> & <dbl> & <dbl> & <dbl> & <dbl> & <dbl> & <dbl> & <dbl>\\\\\n",
       "\\hline\n",
       "\t 0.635 & 0.623 & 5170449134 & 50.01 & 0 & 16 & -11313.08 & 22662.17 & 22737.14 & 1.22707e+22 & 459 & 476\\\\\n",
       "\\end{tabular}\n"
      ],
      "text/markdown": [
       "\n",
       "A tibble: 1 × 12\n",
       "\n",
       "| r.squared &lt;dbl&gt; | adj.r.squared &lt;dbl&gt; | sigma &lt;dbl&gt; | statistic &lt;dbl&gt; | p.value &lt;dbl&gt; | df &lt;dbl&gt; | logLik &lt;dbl&gt; | AIC &lt;dbl&gt; | BIC &lt;dbl&gt; | deviance &lt;dbl&gt; | df.residual &lt;dbl&gt; | nobs &lt;dbl&gt; |\n",
       "|---|---|---|---|---|---|---|---|---|---|---|---|\n",
       "| 0.635 | 0.623 | 5170449134 | 50.01 | 0 | 16 | -11313.08 | 22662.17 | 22737.14 | 1.22707e+22 | 459 | 476 |\n",
       "\n"
      ],
      "text/plain": [
       "  r.squared adj.r.squared sigma      statistic p.value df logLik    AIC     \n",
       "1 0.635     0.623         5170449134 50.01     0       16 -11313.08 22662.17\n",
       "  BIC      deviance    df.residual nobs\n",
       "1 22737.14 1.22707e+22 459         476 "
      ]
     },
     "metadata": {},
     "output_type": "display_data"
    },
    {
     "data": {
      "text/html": [
       "<table class=\"dataframe\">\n",
       "<caption>A tibble: 1 × 12</caption>\n",
       "<thead>\n",
       "\t<tr><th scope=col>r.squared</th><th scope=col>adj.r.squared</th><th scope=col>sigma</th><th scope=col>statistic</th><th scope=col>p.value</th><th scope=col>df</th><th scope=col>logLik</th><th scope=col>AIC</th><th scope=col>BIC</th><th scope=col>deviance</th><th scope=col>df.residual</th><th scope=col>nobs</th></tr>\n",
       "\t<tr><th scope=col>&lt;dbl&gt;</th><th scope=col>&lt;dbl&gt;</th><th scope=col>&lt;dbl&gt;</th><th scope=col>&lt;dbl&gt;</th><th scope=col>&lt;dbl&gt;</th><th scope=col>&lt;dbl&gt;</th><th scope=col>&lt;dbl&gt;</th><th scope=col>&lt;dbl&gt;</th><th scope=col>&lt;dbl&gt;</th><th scope=col>&lt;dbl&gt;</th><th scope=col>&lt;dbl&gt;</th><th scope=col>&lt;dbl&gt;</th></tr>\n",
       "</thead>\n",
       "<tbody>\n",
       "\t<tr><td>0.654</td><td>0.64</td><td>5050078394</td><td>47.939</td><td>0</td><td>18</td><td>-11300.83</td><td>22641.66</td><td>22724.97</td><td>1.1655e+22</td><td>457</td><td>476</td></tr>\n",
       "</tbody>\n",
       "</table>\n"
      ],
      "text/latex": [
       "A tibble: 1 × 12\n",
       "\\begin{tabular}{llllllllllll}\n",
       " r.squared & adj.r.squared & sigma & statistic & p.value & df & logLik & AIC & BIC & deviance & df.residual & nobs\\\\\n",
       " <dbl> & <dbl> & <dbl> & <dbl> & <dbl> & <dbl> & <dbl> & <dbl> & <dbl> & <dbl> & <dbl> & <dbl>\\\\\n",
       "\\hline\n",
       "\t 0.654 & 0.64 & 5050078394 & 47.939 & 0 & 18 & -11300.83 & 22641.66 & 22724.97 & 1.1655e+22 & 457 & 476\\\\\n",
       "\\end{tabular}\n"
      ],
      "text/markdown": [
       "\n",
       "A tibble: 1 × 12\n",
       "\n",
       "| r.squared &lt;dbl&gt; | adj.r.squared &lt;dbl&gt; | sigma &lt;dbl&gt; | statistic &lt;dbl&gt; | p.value &lt;dbl&gt; | df &lt;dbl&gt; | logLik &lt;dbl&gt; | AIC &lt;dbl&gt; | BIC &lt;dbl&gt; | deviance &lt;dbl&gt; | df.residual &lt;dbl&gt; | nobs &lt;dbl&gt; |\n",
       "|---|---|---|---|---|---|---|---|---|---|---|---|\n",
       "| 0.654 | 0.64 | 5050078394 | 47.939 | 0 | 18 | -11300.83 | 22641.66 | 22724.97 | 1.1655e+22 | 457 | 476 |\n",
       "\n"
      ],
      "text/plain": [
       "  r.squared adj.r.squared sigma      statistic p.value df logLik    AIC     \n",
       "1 0.654     0.64          5050078394 47.939    0       18 -11300.83 22641.66\n",
       "  BIC      deviance   df.residual nobs\n",
       "1 22724.97 1.1655e+22 457         476 "
      ]
     },
     "metadata": {},
     "output_type": "display_data"
    },
    {
     "data": {
      "text/html": [
       "<table class=\"dataframe\">\n",
       "<caption>A tibble: 1 × 12</caption>\n",
       "<thead>\n",
       "\t<tr><th scope=col>r.squared</th><th scope=col>adj.r.squared</th><th scope=col>sigma</th><th scope=col>statistic</th><th scope=col>p.value</th><th scope=col>df</th><th scope=col>logLik</th><th scope=col>AIC</th><th scope=col>BIC</th><th scope=col>deviance</th><th scope=col>df.residual</th><th scope=col>nobs</th></tr>\n",
       "\t<tr><th scope=col>&lt;dbl&gt;</th><th scope=col>&lt;dbl&gt;</th><th scope=col>&lt;dbl&gt;</th><th scope=col>&lt;dbl&gt;</th><th scope=col>&lt;dbl&gt;</th><th scope=col>&lt;dbl&gt;</th><th scope=col>&lt;dbl&gt;</th><th scope=col>&lt;dbl&gt;</th><th scope=col>&lt;dbl&gt;</th><th scope=col>&lt;dbl&gt;</th><th scope=col>&lt;dbl&gt;</th><th scope=col>&lt;dbl&gt;</th></tr>\n",
       "</thead>\n",
       "<tbody>\n",
       "\t<tr><td>0.632</td><td>0.62</td><td>5189634346</td><td>52.657</td><td>0</td><td>15</td><td>-11315.36</td><td>22664.73</td><td>22735.54</td><td>1.238886e+22</td><td>460</td><td>476</td></tr>\n",
       "</tbody>\n",
       "</table>\n"
      ],
      "text/latex": [
       "A tibble: 1 × 12\n",
       "\\begin{tabular}{llllllllllll}\n",
       " r.squared & adj.r.squared & sigma & statistic & p.value & df & logLik & AIC & BIC & deviance & df.residual & nobs\\\\\n",
       " <dbl> & <dbl> & <dbl> & <dbl> & <dbl> & <dbl> & <dbl> & <dbl> & <dbl> & <dbl> & <dbl> & <dbl>\\\\\n",
       "\\hline\n",
       "\t 0.632 & 0.62 & 5189634346 & 52.657 & 0 & 15 & -11315.36 & 22664.73 & 22735.54 & 1.238886e+22 & 460 & 476\\\\\n",
       "\\end{tabular}\n"
      ],
      "text/markdown": [
       "\n",
       "A tibble: 1 × 12\n",
       "\n",
       "| r.squared &lt;dbl&gt; | adj.r.squared &lt;dbl&gt; | sigma &lt;dbl&gt; | statistic &lt;dbl&gt; | p.value &lt;dbl&gt; | df &lt;dbl&gt; | logLik &lt;dbl&gt; | AIC &lt;dbl&gt; | BIC &lt;dbl&gt; | deviance &lt;dbl&gt; | df.residual &lt;dbl&gt; | nobs &lt;dbl&gt; |\n",
       "|---|---|---|---|---|---|---|---|---|---|---|---|\n",
       "| 0.632 | 0.62 | 5189634346 | 52.657 | 0 | 15 | -11315.36 | 22664.73 | 22735.54 | 1.238886e+22 | 460 | 476 |\n",
       "\n"
      ],
      "text/plain": [
       "  r.squared adj.r.squared sigma      statistic p.value df logLik    AIC     \n",
       "1 0.632     0.62          5189634346 52.657    0       15 -11315.36 22664.73\n",
       "  BIC      deviance     df.residual nobs\n",
       "1 22735.54 1.238886e+22 460         476 "
      ]
     },
     "metadata": {},
     "output_type": "display_data"
    }
   ],
   "source": [
    "new_model_summary<-glance(new_model)%>% mutate_if(is.numeric, round, 3)\n",
    "full_model_summary<-glance(full_interaction)%>% mutate_if(is.numeric, round, 3)\n",
    "with_interaction_summary<-glance(with_interaction)%>% mutate_if(is.numeric, round, 3)\n",
    "new_model_summary\n",
    "full_model_summary\n",
    "with_interaction_summary"
   ]
  },
  {
   "cell_type": "markdown",
   "id": "413bd4fd-c0c8-4883-ab3a-b1904f15fddb",
   "metadata": {},
   "source": [
    "1. lowest cp with 8 params and best adj.r^2\n",
    "2. consider including interaction plots\n",
    "3. Can use f-stat as model diagnostic, comparing for different models, higher the better (more the model explains the variation) "
   ]
  },
  {
   "cell_type": "code",
   "execution_count": 127,
   "id": "b1b0a550-627b-4fc8-a8fc-aef3485a3ef8",
   "metadata": {},
   "outputs": [
    {
     "data": {
      "text/html": [
       "<table class=\"dataframe\">\n",
       "<caption>A anova: 2 × 6</caption>\n",
       "<thead>\n",
       "\t<tr><th></th><th scope=col>Res.Df</th><th scope=col>RSS</th><th scope=col>Df</th><th scope=col>Sum of Sq</th><th scope=col>F</th><th scope=col>Pr(&gt;F)</th></tr>\n",
       "\t<tr><th></th><th scope=col>&lt;dbl&gt;</th><th scope=col>&lt;dbl&gt;</th><th scope=col>&lt;dbl&gt;</th><th scope=col>&lt;dbl&gt;</th><th scope=col>&lt;dbl&gt;</th><th scope=col>&lt;dbl&gt;</th></tr>\n",
       "</thead>\n",
       "<tbody>\n",
       "\t<tr><th scope=row>1</th><td>459</td><td>1.22707e+22</td><td>NA</td><td>          NA</td><td>      NA</td><td>         NA</td></tr>\n",
       "\t<tr><th scope=row>2</th><td>457</td><td>1.16550e+22</td><td> 2</td><td>6.156925e+20</td><td>12.07084</td><td>7.78887e-06</td></tr>\n",
       "</tbody>\n",
       "</table>\n"
      ],
      "text/latex": [
       "A anova: 2 × 6\n",
       "\\begin{tabular}{r|llllll}\n",
       "  & Res.Df & RSS & Df & Sum of Sq & F & Pr(>F)\\\\\n",
       "  & <dbl> & <dbl> & <dbl> & <dbl> & <dbl> & <dbl>\\\\\n",
       "\\hline\n",
       "\t1 & 459 & 1.22707e+22 & NA &           NA &       NA &          NA\\\\\n",
       "\t2 & 457 & 1.16550e+22 &  2 & 6.156925e+20 & 12.07084 & 7.78887e-06\\\\\n",
       "\\end{tabular}\n"
      ],
      "text/markdown": [
       "\n",
       "A anova: 2 × 6\n",
       "\n",
       "| <!--/--> | Res.Df &lt;dbl&gt; | RSS &lt;dbl&gt; | Df &lt;dbl&gt; | Sum of Sq &lt;dbl&gt; | F &lt;dbl&gt; | Pr(&gt;F) &lt;dbl&gt; |\n",
       "|---|---|---|---|---|---|---|\n",
       "| 1 | 459 | 1.22707e+22 | NA |           NA |       NA |          NA |\n",
       "| 2 | 457 | 1.16550e+22 |  2 | 6.156925e+20 | 12.07084 | 7.78887e-06 |\n",
       "\n"
      ],
      "text/plain": [
       "  Res.Df RSS         Df Sum of Sq    F        Pr(>F)     \n",
       "1 459    1.22707e+22 NA           NA       NA          NA\n",
       "2 457    1.16550e+22  2 6.156925e+20 12.07084 7.78887e-06"
      ]
     },
     "metadata": {},
     "output_type": "display_data"
    },
    {
     "data": {
      "text/html": [
       "<table class=\"dataframe\">\n",
       "<caption>A anova: 2 × 6</caption>\n",
       "<thead>\n",
       "\t<tr><th></th><th scope=col>Res.Df</th><th scope=col>RSS</th><th scope=col>Df</th><th scope=col>Sum of Sq</th><th scope=col>F</th><th scope=col>Pr(&gt;F)</th></tr>\n",
       "\t<tr><th></th><th scope=col>&lt;dbl&gt;</th><th scope=col>&lt;dbl&gt;</th><th scope=col>&lt;dbl&gt;</th><th scope=col>&lt;dbl&gt;</th><th scope=col>&lt;dbl&gt;</th><th scope=col>&lt;dbl&gt;</th></tr>\n",
       "</thead>\n",
       "<tbody>\n",
       "\t<tr><th scope=row>1</th><td>459</td><td>1.227070e+22</td><td>NA</td><td>           NA</td><td>     NA</td><td>        NA</td></tr>\n",
       "\t<tr><th scope=row>2</th><td>460</td><td>1.238886e+22</td><td>-1</td><td>-1.181633e+20</td><td>4.42004</td><td>0.03606332</td></tr>\n",
       "</tbody>\n",
       "</table>\n"
      ],
      "text/latex": [
       "A anova: 2 × 6\n",
       "\\begin{tabular}{r|llllll}\n",
       "  & Res.Df & RSS & Df & Sum of Sq & F & Pr(>F)\\\\\n",
       "  & <dbl> & <dbl> & <dbl> & <dbl> & <dbl> & <dbl>\\\\\n",
       "\\hline\n",
       "\t1 & 459 & 1.227070e+22 & NA &            NA &      NA &         NA\\\\\n",
       "\t2 & 460 & 1.238886e+22 & -1 & -1.181633e+20 & 4.42004 & 0.03606332\\\\\n",
       "\\end{tabular}\n"
      ],
      "text/markdown": [
       "\n",
       "A anova: 2 × 6\n",
       "\n",
       "| <!--/--> | Res.Df &lt;dbl&gt; | RSS &lt;dbl&gt; | Df &lt;dbl&gt; | Sum of Sq &lt;dbl&gt; | F &lt;dbl&gt; | Pr(&gt;F) &lt;dbl&gt; |\n",
       "|---|---|---|---|---|---|---|\n",
       "| 1 | 459 | 1.227070e+22 | NA |            NA |      NA |         NA |\n",
       "| 2 | 460 | 1.238886e+22 | -1 | -1.181633e+20 | 4.42004 | 0.03606332 |\n",
       "\n"
      ],
      "text/plain": [
       "  Res.Df RSS          Df Sum of Sq     F       Pr(>F)    \n",
       "1 459    1.227070e+22 NA            NA      NA         NA\n",
       "2 460    1.238886e+22 -1 -1.181633e+20 4.42004 0.03606332"
      ]
     },
     "metadata": {},
     "output_type": "display_data"
    },
    {
     "data": {
      "text/html": [
       "<table class=\"dataframe\">\n",
       "<caption>A anova: 2 × 6</caption>\n",
       "<thead>\n",
       "\t<tr><th></th><th scope=col>Res.Df</th><th scope=col>RSS</th><th scope=col>Df</th><th scope=col>Sum of Sq</th><th scope=col>F</th><th scope=col>Pr(&gt;F)</th></tr>\n",
       "\t<tr><th></th><th scope=col>&lt;dbl&gt;</th><th scope=col>&lt;dbl&gt;</th><th scope=col>&lt;dbl&gt;</th><th scope=col>&lt;dbl&gt;</th><th scope=col>&lt;dbl&gt;</th><th scope=col>&lt;dbl&gt;</th></tr>\n",
       "</thead>\n",
       "<tbody>\n",
       "\t<tr><th scope=row>1</th><td>457</td><td>1.165500e+22</td><td>NA</td><td>           NA</td><td>      NA</td><td>          NA</td></tr>\n",
       "\t<tr><th scope=row>2</th><td>460</td><td>1.238886e+22</td><td>-3</td><td>-7.338558e+20</td><td>9.591648</td><td>3.746668e-06</td></tr>\n",
       "</tbody>\n",
       "</table>\n"
      ],
      "text/latex": [
       "A anova: 2 × 6\n",
       "\\begin{tabular}{r|llllll}\n",
       "  & Res.Df & RSS & Df & Sum of Sq & F & Pr(>F)\\\\\n",
       "  & <dbl> & <dbl> & <dbl> & <dbl> & <dbl> & <dbl>\\\\\n",
       "\\hline\n",
       "\t1 & 457 & 1.165500e+22 & NA &            NA &       NA &           NA\\\\\n",
       "\t2 & 460 & 1.238886e+22 & -3 & -7.338558e+20 & 9.591648 & 3.746668e-06\\\\\n",
       "\\end{tabular}\n"
      ],
      "text/markdown": [
       "\n",
       "A anova: 2 × 6\n",
       "\n",
       "| <!--/--> | Res.Df &lt;dbl&gt; | RSS &lt;dbl&gt; | Df &lt;dbl&gt; | Sum of Sq &lt;dbl&gt; | F &lt;dbl&gt; | Pr(&gt;F) &lt;dbl&gt; |\n",
       "|---|---|---|---|---|---|---|\n",
       "| 1 | 457 | 1.165500e+22 | NA |            NA |       NA |           NA |\n",
       "| 2 | 460 | 1.238886e+22 | -3 | -7.338558e+20 | 9.591648 | 3.746668e-06 |\n",
       "\n"
      ],
      "text/plain": [
       "  Res.Df RSS          Df Sum of Sq     F        Pr(>F)      \n",
       "1 457    1.165500e+22 NA            NA       NA           NA\n",
       "2 460    1.238886e+22 -3 -7.338558e+20 9.591648 3.746668e-06"
      ]
     },
     "metadata": {},
     "output_type": "display_data"
    }
   ],
   "source": [
    "anova_1<-anova(new_model, full_interaction)\n",
    "anova_2<-anova(new_model, with_interaction)\n",
    "anova_3<-anova(full_interaction, with_interaction)\n",
    "anova_1\n",
    "anova_2\n",
    "anova_3"
   ]
  },
  {
   "cell_type": "code",
   "execution_count": 128,
   "id": "b057c4a1-3f7f-41d7-a03e-c682daccfc1c",
   "metadata": {},
   "outputs": [
    {
     "data": {
      "text/html": [
       "<style>\n",
       ".dl-inline {width: auto; margin:0; padding: 0}\n",
       ".dl-inline>dt, .dl-inline>dd {float: none; width: auto; display: inline-block}\n",
       ".dl-inline>dt::after {content: \":\\0020\"; padding-right: .5ex}\n",
       ".dl-inline>dt:not(:first-of-type) {padding-left: .5ex}\n",
       "</style><dl class=dl-inline><dt>1</dt><dd>108740049958.124</dd><dt>8</dt><dd>70962524426.7809</dd><dt>15</dt><dd>52318114470.0614</dd></dl>\n"
      ],
      "text/latex": [
       "\\begin{description*}\n",
       "\\item[1] 108740049958.124\n",
       "\\item[8] 70962524426.7809\n",
       "\\item[15] 52318114470.0614\n",
       "\\end{description*}\n"
      ],
      "text/markdown": [
       "1\n",
       ":   108740049958.1248\n",
       ":   70962524426.780915\n",
       ":   52318114470.0614\n",
       "\n"
      ],
      "text/plain": [
       "           1            8           15 \n",
       "108740049958  70962524427  52318114470 "
      ]
     },
     "metadata": {},
     "output_type": "display_data"
    }
   ],
   "source": [
    "prediction_model<-predict(new_model, newdata=data_test)\n",
    "head(prediction_model, 3)"
   ]
  },
  {
   "cell_type": "code",
   "execution_count": 132,
   "id": "fd342005-2524-49a7-a19c-66aaecf01d99",
   "metadata": {},
   "outputs": [
    {
     "ename": "ERROR",
     "evalue": "Error in prediction_model$video.views: $ operator is invalid for atomic vectors\n",
     "output_type": "error",
     "traceback": [
      "Error in prediction_model$video.views: $ operator is invalid for atomic vectors\nTraceback:\n",
      "1. tibble(Model = \"Full Model\", R_MSR = rmse(pred = prediction_model$video.views, \n .     actuals = new_model))",
      "2. tibble_quos(xs, .rows, .name_repair)",
      "3. eval_tidy(xs[[j]], mask)",
      "4. rmse(pred = prediction_model$video.views, actuals = new_model)"
     ]
    }
   ],
   "source": [
    "root_mean_square<-tibble(Model = \"Full Model\", \n",
    "                        R_MSR = rmse(pred=prediction_model$video.views,\n",
    "                                  actuals=new_model))\n",
    "root_mean_square"
   ]
  },
  {
   "cell_type": "code",
   "execution_count": null,
   "id": "07f413af-0d24-4f2b-835d-9158e765f9c6",
   "metadata": {},
   "outputs": [],
   "source": []
  }
 ],
 "metadata": {
  "kernelspec": {
   "display_name": "R",
   "language": "R",
   "name": "ir"
  },
  "language_info": {
   "codemirror_mode": "r",
   "file_extension": ".r",
   "mimetype": "text/x-r-source",
   "name": "R",
   "pygments_lexer": "r",
   "version": "4.1.3"
  }
 },
 "nbformat": 4,
 "nbformat_minor": 5
}
