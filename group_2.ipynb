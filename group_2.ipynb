{
 "cells": [
  {
   "cell_type": "code",
   "execution_count": 1,
   "id": "0db977ca-c862-4359-8e83-f77e4bf0fc44",
   "metadata": {},
   "outputs": [
    {
     "name": "stderr",
     "output_type": "stream",
     "text": [
      "Warning message in system(\"timedatectl\", intern = TRUE):\n",
      "“running command 'timedatectl' had status 1”\n",
      "── \u001b[1mAttaching packages\u001b[22m ─────────────────────────────────────── tidyverse 1.3.2 ──\n",
      "\u001b[32m✔\u001b[39m \u001b[34mggplot2\u001b[39m 3.3.6     \u001b[32m✔\u001b[39m \u001b[34mpurrr  \u001b[39m 0.3.4\n",
      "\u001b[32m✔\u001b[39m \u001b[34mtibble \u001b[39m 3.1.8     \u001b[32m✔\u001b[39m \u001b[34mdplyr  \u001b[39m 1.0.9\n",
      "\u001b[32m✔\u001b[39m \u001b[34mtidyr  \u001b[39m 1.2.0     \u001b[32m✔\u001b[39m \u001b[34mstringr\u001b[39m 1.4.1\n",
      "\u001b[32m✔\u001b[39m \u001b[34mreadr  \u001b[39m 2.1.2     \u001b[32m✔\u001b[39m \u001b[34mforcats\u001b[39m 0.5.2\n",
      "── \u001b[1mConflicts\u001b[22m ────────────────────────────────────────── tidyverse_conflicts() ──\n",
      "\u001b[31m✖\u001b[39m \u001b[34mdplyr\u001b[39m::\u001b[32mfilter()\u001b[39m masks \u001b[34mstats\u001b[39m::filter()\n",
      "\u001b[31m✖\u001b[39m \u001b[34mdplyr\u001b[39m::\u001b[32mlag()\u001b[39m    masks \u001b[34mstats\u001b[39m::lag()\n",
      "\n",
      "Attaching package: ‘mltools’\n",
      "\n",
      "\n",
      "The following object is masked from ‘package:tidyr’:\n",
      "\n",
      "    replace_na\n",
      "\n",
      "\n",
      "Loading required package: Matrix\n",
      "\n",
      "\n",
      "Attaching package: ‘Matrix’\n",
      "\n",
      "\n",
      "The following objects are masked from ‘package:tidyr’:\n",
      "\n",
      "    expand, pack, unpack\n",
      "\n",
      "\n",
      "Loaded glmnet 4.1-2\n",
      "\n",
      "Registered S3 method overwritten by 'GGally':\n",
      "  method from   \n",
      "  +.gg   ggplot2\n",
      "\n",
      "\n",
      "Attaching package: ‘GGally’\n",
      "\n",
      "\n",
      "The following object is masked from ‘package:faraway’:\n",
      "\n",
      "    happy\n",
      "\n",
      "\n"
     ]
    }
   ],
   "source": [
    "library(tidyverse)\n",
    "library(leaps)\n",
    "library(broom)\n",
    "library(repr)\n",
    "library(digest)\n",
    "library(faraway)\n",
    "library(mltools)\n",
    "library(glmnet)\n",
    "library(cowplot)\n",
    "library(readxl)\n",
    "library(GGally)\n",
    "library(infer)\n",
    "library(rsample)"
   ]
  },
  {
   "cell_type": "code",
   "execution_count": 2,
   "id": "6095f78d-b4bd-4a40-a527-b538953ac480",
   "metadata": {},
   "outputs": [
    {
     "data": {
      "text/html": [
       "<table class=\"dataframe\">\n",
       "<caption>A data.frame: 3 × 7</caption>\n",
       "<thead>\n",
       "\t<tr><th></th><th scope=col>rank</th><th scope=col>Youtuber</th><th scope=col>subscribers</th><th scope=col>video.views</th><th scope=col>video.count</th><th scope=col>category</th><th scope=col>started</th></tr>\n",
       "\t<tr><th></th><th scope=col>&lt;int&gt;</th><th scope=col>&lt;chr&gt;</th><th scope=col>&lt;chr&gt;</th><th scope=col>&lt;chr&gt;</th><th scope=col>&lt;chr&gt;</th><th scope=col>&lt;chr&gt;</th><th scope=col>&lt;int&gt;</th></tr>\n",
       "</thead>\n",
       "<tbody>\n",
       "\t<tr><th scope=row>1</th><td>1</td><td>T-Series                  </td><td>222,000,000</td><td>198,459,090,822</td><td>17,317</td><td>Music           </td><td>2006</td></tr>\n",
       "\t<tr><th scope=row>2</th><td>2</td><td><span style=white-space:pre-wrap>YouTube Movies            </span></td><td>154,000,000</td><td><span style=white-space:pre-wrap>0              </span></td><td><span style=white-space:pre-wrap>0     </span></td><td>Film &amp; Animation</td><td>2015</td></tr>\n",
       "\t<tr><th scope=row>3</th><td>3</td><td>Cocomelon - Nursery Rhymes</td><td>140,000,000</td><td>135,481,339,848</td><td>786   </td><td>Education       </td><td>2006</td></tr>\n",
       "</tbody>\n",
       "</table>\n"
      ],
      "text/latex": [
       "A data.frame: 3 × 7\n",
       "\\begin{tabular}{r|lllllll}\n",
       "  & rank & Youtuber & subscribers & video.views & video.count & category & started\\\\\n",
       "  & <int> & <chr> & <chr> & <chr> & <chr> & <chr> & <int>\\\\\n",
       "\\hline\n",
       "\t1 & 1 & T-Series                   & 222,000,000 & 198,459,090,822 & 17,317 & Music            & 2006\\\\\n",
       "\t2 & 2 & YouTube Movies             & 154,000,000 & 0               & 0      & Film \\& Animation & 2015\\\\\n",
       "\t3 & 3 & Cocomelon - Nursery Rhymes & 140,000,000 & 135,481,339,848 & 786    & Education        & 2006\\\\\n",
       "\\end{tabular}\n"
      ],
      "text/markdown": [
       "\n",
       "A data.frame: 3 × 7\n",
       "\n",
       "| <!--/--> | rank &lt;int&gt; | Youtuber &lt;chr&gt; | subscribers &lt;chr&gt; | video.views &lt;chr&gt; | video.count &lt;chr&gt; | category &lt;chr&gt; | started &lt;int&gt; |\n",
       "|---|---|---|---|---|---|---|---|\n",
       "| 1 | 1 | T-Series                   | 222,000,000 | 198,459,090,822 | 17,317 | Music            | 2006 |\n",
       "| 2 | 2 | YouTube Movies             | 154,000,000 | 0               | 0      | Film &amp; Animation | 2015 |\n",
       "| 3 | 3 | Cocomelon - Nursery Rhymes | 140,000,000 | 135,481,339,848 | 786    | Education        | 2006 |\n",
       "\n"
      ],
      "text/plain": [
       "  rank Youtuber                   subscribers video.views     video.count\n",
       "1 1    T-Series                   222,000,000 198,459,090,822 17,317     \n",
       "2 2    YouTube Movies             154,000,000 0               0          \n",
       "3 3    Cocomelon - Nursery Rhymes 140,000,000 135,481,339,848 786        \n",
       "  category         started\n",
       "1 Music            2006   \n",
       "2 Film & Animation 2015   \n",
       "3 Education        2006   "
      ]
     },
     "metadata": {},
     "output_type": "display_data"
    }
   ],
   "source": [
    "data1<-read.csv(\"most_subscribed.csv\")\n",
    "head(data1, 3)"
   ]
  },
  {
   "cell_type": "code",
   "execution_count": 3,
   "id": "2b08c36f-c737-4337-b536-bd0fe6d79888",
   "metadata": {},
   "outputs": [],
   "source": [
    "row_sub = apply(data1, 1, function(row) all(row !=0 ))\n",
    "data1 <- data1[row_sub,]\n",
    "data <- data1[data1$category %in% c(\"Gaming\", \"Music\", \"Entertainment\", \"People & Blogs\"),]\n"
   ]
  },
  {
   "cell_type": "code",
   "execution_count": 4,
   "id": "738f4c10-5195-4459-8f13-4d0eddb465f0",
   "metadata": {},
   "outputs": [],
   "source": [
    "data$subscribers<- as.numeric(gsub(\",\",\"\",data$subscribers))\n",
    "data$video.views<- as.numeric(gsub(\",\",\"\",data$video.views))\n",
    "data$video.count<- as.numeric(gsub(\",\",\"\",data$video.count))\n",
    "\n"
   ]
  },
  {
   "cell_type": "code",
   "execution_count": 14,
   "id": "632b1629-bbfc-4d97-98bc-775ad3960c27",
   "metadata": {},
   "outputs": [
    {
     "data": {
      "text/html": [
       "<table class=\"dataframe\">\n",
       "<caption>A data.frame: 3 × 5</caption>\n",
       "<thead>\n",
       "\t<tr><th></th><th scope=col>subscribers</th><th scope=col>video.views</th><th scope=col>video.count</th><th scope=col>category</th><th scope=col>started</th></tr>\n",
       "\t<tr><th></th><th scope=col>&lt;dbl&gt;</th><th scope=col>&lt;dbl&gt;</th><th scope=col>&lt;dbl&gt;</th><th scope=col>&lt;chr&gt;</th><th scope=col>&lt;int&gt;</th></tr>\n",
       "</thead>\n",
       "<tbody>\n",
       "\t<tr><th scope=row>1</th><td>2.22e+08</td><td>198459090822</td><td>17317</td><td>Music        </td><td>2006</td></tr>\n",
       "\t<tr><th scope=row>6</th><td>1.11e+08</td><td> 28469458228</td><td> 4497</td><td>Gaming       </td><td>2010</td></tr>\n",
       "\t<tr><th scope=row>7</th><td>1.02e+08</td><td> 16832456681</td><td>  726</td><td>Entertainment</td><td>2012</td></tr>\n",
       "</tbody>\n",
       "</table>\n"
      ],
      "text/latex": [
       "A data.frame: 3 × 5\n",
       "\\begin{tabular}{r|lllll}\n",
       "  & subscribers & video.views & video.count & category & started\\\\\n",
       "  & <dbl> & <dbl> & <dbl> & <chr> & <int>\\\\\n",
       "\\hline\n",
       "\t1 & 2.22e+08 & 198459090822 & 17317 & Music         & 2006\\\\\n",
       "\t6 & 1.11e+08 &  28469458228 &  4497 & Gaming        & 2010\\\\\n",
       "\t7 & 1.02e+08 &  16832456681 &   726 & Entertainment & 2012\\\\\n",
       "\\end{tabular}\n"
      ],
      "text/markdown": [
       "\n",
       "A data.frame: 3 × 5\n",
       "\n",
       "| <!--/--> | subscribers &lt;dbl&gt; | video.views &lt;dbl&gt; | video.count &lt;dbl&gt; | category &lt;chr&gt; | started &lt;int&gt; |\n",
       "|---|---|---|---|---|---|\n",
       "| 1 | 2.22e+08 | 198459090822 | 17317 | Music         | 2006 |\n",
       "| 6 | 1.11e+08 |  28469458228 |  4497 | Gaming        | 2010 |\n",
       "| 7 | 1.02e+08 |  16832456681 |   726 | Entertainment | 2012 |\n",
       "\n"
      ],
      "text/plain": [
       "  subscribers video.views  video.count category      started\n",
       "1 2.22e+08    198459090822 17317       Music         2006   \n",
       "6 1.11e+08     28469458228  4497       Gaming        2010   \n",
       "7 1.02e+08     16832456681   726       Entertainment 2012   "
      ]
     },
     "metadata": {},
     "output_type": "display_data"
    }
   ],
   "source": [
    "data<-data[,-c(0:1)]\n",
    "head(data,3)"
   ]
  },
  {
   "cell_type": "code",
   "execution_count": 25,
   "id": "e44141f2-fbeb-490b-94ff-d6318842b994",
   "metadata": {},
   "outputs": [
    {
     "data": {
      "text/html": [
       "<table class=\"dataframe\">\n",
       "<caption>A data.frame: 3 × 5</caption>\n",
       "<thead>\n",
       "\t<tr><th></th><th scope=col>subscribers</th><th scope=col>video.views</th><th scope=col>video.count</th><th scope=col>category</th><th scope=col>started</th></tr>\n",
       "\t<tr><th></th><th scope=col>&lt;dbl&gt;</th><th scope=col>&lt;dbl&gt;</th><th scope=col>&lt;dbl&gt;</th><th scope=col>&lt;chr&gt;</th><th scope=col>&lt;int&gt;</th></tr>\n",
       "</thead>\n",
       "<tbody>\n",
       "\t<tr><th scope=row>131</th><td>30000000</td><td>2673017855</td><td>110</td><td>Gaming       </td><td>2014</td></tr>\n",
       "\t<tr><th scope=row>176</th><td>26300000</td><td>3589276436</td><td>553</td><td>Gaming       </td><td>2016</td></tr>\n",
       "\t<tr><th scope=row>212</th><td>24100000</td><td>2242631303</td><td> 93</td><td>Entertainment</td><td>2012</td></tr>\n",
       "</tbody>\n",
       "</table>\n"
      ],
      "text/latex": [
       "A data.frame: 3 × 5\n",
       "\\begin{tabular}{r|lllll}\n",
       "  & subscribers & video.views & video.count & category & started\\\\\n",
       "  & <dbl> & <dbl> & <dbl> & <chr> & <int>\\\\\n",
       "\\hline\n",
       "\t131 & 30000000 & 2673017855 & 110 & Gaming        & 2014\\\\\n",
       "\t176 & 26300000 & 3589276436 & 553 & Gaming        & 2016\\\\\n",
       "\t212 & 24100000 & 2242631303 &  93 & Entertainment & 2012\\\\\n",
       "\\end{tabular}\n"
      ],
      "text/markdown": [
       "\n",
       "A data.frame: 3 × 5\n",
       "\n",
       "| <!--/--> | subscribers &lt;dbl&gt; | video.views &lt;dbl&gt; | video.count &lt;dbl&gt; | category &lt;chr&gt; | started &lt;int&gt; |\n",
       "|---|---|---|---|---|---|\n",
       "| 131 | 30000000 | 2673017855 | 110 | Gaming        | 2014 |\n",
       "| 176 | 26300000 | 3589276436 | 553 | Gaming        | 2016 |\n",
       "| 212 | 24100000 | 2242631303 |  93 | Entertainment | 2012 |\n",
       "\n"
      ],
      "text/plain": [
       "    subscribers video.views video.count category      started\n",
       "131 30000000    2673017855  110         Gaming        2014   \n",
       "176 26300000    3589276436  553         Gaming        2016   \n",
       "212 24100000    2242631303   93         Entertainment 2012   "
      ]
     },
     "metadata": {},
     "output_type": "display_data"
    }
   ],
   "source": [
    "#split data into test and training\n",
    "split_data<-initial_split(data, prop=0.7, strata=video.views)\n",
    "data_train<-training(split_data)\n",
    "data_test<-testing(split_data)\n",
    "head(data_train, 3)"
   ]
  },
  {
   "cell_type": "code",
   "execution_count": 26,
   "id": "4ff251aa-942a-47df-9e25-17d3d610be2b",
   "metadata": {},
   "outputs": [],
   "source": [
    "full_interaction<-lm(video.views~video.count*subscribers+video.count*started+subscribers*started+video.count+subscribers+category+started+video.count*category+started*category+subscribers*category, data=data_train)\n",
    "with_interaction<-lm(video.views~video.count+subscribers+category+started+video.count*category+started*category+subscribers*category, data=data_train)\n",
    "new_model<-lm(video.views~video.count*subscribers+video.count+subscribers+category+started+video.count*category+started*category+subscribers*category, data=data_train)\n"
   ]
  },
  {
   "cell_type": "code",
   "execution_count": 27,
   "id": "d6295ff5-575a-4709-9473-9a1de4fddc58",
   "metadata": {},
   "outputs": [
    {
     "data": {
      "text/html": [
       "<table class=\"dataframe\">\n",
       "<caption>A tibble: 8 × 6</caption>\n",
       "<thead>\n",
       "\t<tr><th scope=col>n_input_variables</th><th scope=col>RSQ</th><th scope=col>RSS</th><th scope=col>ADJ.R2</th><th scope=col>Cp</th><th scope=col>BIC</th></tr>\n",
       "\t<tr><th scope=col>&lt;int&gt;</th><th scope=col>&lt;dbl&gt;</th><th scope=col>&lt;dbl&gt;</th><th scope=col>&lt;dbl&gt;</th><th scope=col>&lt;dbl&gt;</th><th scope=col>&lt;dbl&gt;</th></tr>\n",
       "</thead>\n",
       "<tbody>\n",
       "\t<tr><td>1</td><td>0.7353163</td><td>1.854896e+22</td><td>0.7347579</td><td>230.924027</td><td>-620.3777</td></tr>\n",
       "\t<tr><td>2</td><td>0.7628706</td><td>1.661796e+22</td><td>0.7618679</td><td>159.747659</td><td>-666.5388</td></tr>\n",
       "\t<tr><td>3</td><td>0.7818225</td><td>1.528981e+22</td><td>0.7804358</td><td>111.416757</td><td>-700.0228</td></tr>\n",
       "\t<tr><td>4</td><td>0.7911233</td><td>1.463802e+22</td><td>0.7893494</td><td> 88.716520</td><td>-714.5943</td></tr>\n",
       "\t<tr><td>5</td><td>0.8020773</td><td>1.387037e+22</td><td>0.7999717</td><td> 61.626019</td><td>-734.0697</td></tr>\n",
       "\t<tr><td>6</td><td>0.8157006</td><td>1.291565e+22</td><td>0.8133428</td><td> 27.446318</td><td>-761.8503</td></tr>\n",
       "\t<tr><td>7</td><td>0.8210642</td><td>1.253977e+22</td><td>0.8183878</td><td> 15.202255</td><td>-769.7432</td></tr>\n",
       "\t<tr><td>8</td><td>0.8243216</td><td>1.231149e+22</td><td>0.8213122</td><td>  8.551323</td><td>-772.3230</td></tr>\n",
       "</tbody>\n",
       "</table>\n"
      ],
      "text/latex": [
       "A tibble: 8 × 6\n",
       "\\begin{tabular}{llllll}\n",
       " n\\_input\\_variables & RSQ & RSS & ADJ.R2 & Cp & BIC\\\\\n",
       " <int> & <dbl> & <dbl> & <dbl> & <dbl> & <dbl>\\\\\n",
       "\\hline\n",
       "\t 1 & 0.7353163 & 1.854896e+22 & 0.7347579 & 230.924027 & -620.3777\\\\\n",
       "\t 2 & 0.7628706 & 1.661796e+22 & 0.7618679 & 159.747659 & -666.5388\\\\\n",
       "\t 3 & 0.7818225 & 1.528981e+22 & 0.7804358 & 111.416757 & -700.0228\\\\\n",
       "\t 4 & 0.7911233 & 1.463802e+22 & 0.7893494 &  88.716520 & -714.5943\\\\\n",
       "\t 5 & 0.8020773 & 1.387037e+22 & 0.7999717 &  61.626019 & -734.0697\\\\\n",
       "\t 6 & 0.8157006 & 1.291565e+22 & 0.8133428 &  27.446318 & -761.8503\\\\\n",
       "\t 7 & 0.8210642 & 1.253977e+22 & 0.8183878 &  15.202255 & -769.7432\\\\\n",
       "\t 8 & 0.8243216 & 1.231149e+22 & 0.8213122 &   8.551323 & -772.3230\\\\\n",
       "\\end{tabular}\n"
      ],
      "text/markdown": [
       "\n",
       "A tibble: 8 × 6\n",
       "\n",
       "| n_input_variables &lt;int&gt; | RSQ &lt;dbl&gt; | RSS &lt;dbl&gt; | ADJ.R2 &lt;dbl&gt; | Cp &lt;dbl&gt; | BIC &lt;dbl&gt; |\n",
       "|---|---|---|---|---|---|\n",
       "| 1 | 0.7353163 | 1.854896e+22 | 0.7347579 | 230.924027 | -620.3777 |\n",
       "| 2 | 0.7628706 | 1.661796e+22 | 0.7618679 | 159.747659 | -666.5388 |\n",
       "| 3 | 0.7818225 | 1.528981e+22 | 0.7804358 | 111.416757 | -700.0228 |\n",
       "| 4 | 0.7911233 | 1.463802e+22 | 0.7893494 |  88.716520 | -714.5943 |\n",
       "| 5 | 0.8020773 | 1.387037e+22 | 0.7999717 |  61.626019 | -734.0697 |\n",
       "| 6 | 0.8157006 | 1.291565e+22 | 0.8133428 |  27.446318 | -761.8503 |\n",
       "| 7 | 0.8210642 | 1.253977e+22 | 0.8183878 |  15.202255 | -769.7432 |\n",
       "| 8 | 0.8243216 | 1.231149e+22 | 0.8213122 |   8.551323 | -772.3230 |\n",
       "\n"
      ],
      "text/plain": [
       "  n_input_variables RSQ       RSS          ADJ.R2    Cp         BIC      \n",
       "1 1                 0.7353163 1.854896e+22 0.7347579 230.924027 -620.3777\n",
       "2 2                 0.7628706 1.661796e+22 0.7618679 159.747659 -666.5388\n",
       "3 3                 0.7818225 1.528981e+22 0.7804358 111.416757 -700.0228\n",
       "4 4                 0.7911233 1.463802e+22 0.7893494  88.716520 -714.5943\n",
       "5 5                 0.8020773 1.387037e+22 0.7999717  61.626019 -734.0697\n",
       "6 6                 0.8157006 1.291565e+22 0.8133428  27.446318 -761.8503\n",
       "7 7                 0.8210642 1.253977e+22 0.8183878  15.202255 -769.7432\n",
       "8 8                 0.8243216 1.231149e+22 0.8213122   8.551323 -772.3230"
      ]
     },
     "metadata": {},
     "output_type": "display_data"
    }
   ],
   "source": [
    "#new model: think this is the model we should use: this has category interaction, and video.count*subscriber interaction\n",
    "# it was seen in the summary for lm that the interaction is significant \n",
    "new_model<-lm(video.views~video.count*subscribers+video.count+subscribers+category+started+video.count*category+started*category+subscribers*category, data=data_train)\n",
    "selection_model<-regsubsets(video.views~video.count*subscribers+video.count+subscribers+category+started+video.count*category+started*category+subscribers*category,\n",
    "           data=data_train, \n",
    "           method=\"forward\")\n",
    "selection<-summary(selection_model)\n",
    "\n",
    "data_summary_df <- tibble(\n",
    "     n_input_variables = 1:8,\n",
    "     RSQ = selection$rsq,\n",
    "     RSS = selection$rss,\n",
    "     ADJ.R2 = selection$adjr2,\n",
    "     Cp = selection$cp,\n",
    "     BIC = selection$bic,\n",
    " )\n",
    "data_summary_df"
   ]
  },
  {
   "cell_type": "code",
   "execution_count": 9,
   "id": "67a6f5d9-dc70-4945-bda8-f04bd2bb0699",
   "metadata": {},
   "outputs": [
    {
     "data": {
      "image/png": "[encoded data removed]",
      "text/plain": [
       "Plot with title “Cp for forward selection”"
      ]
     },
     "metadata": {
      "image/png": {
       "height": 420,
       "width": 420
      }
     },
     "output_type": "display_data"
    }
   ],
   "source": [
    "plot(summary(selection_model)$cp,\n",
    "  main = \"Cp for forward selection\",\n",
    "  xlab = \"Number of Input Variables\", ylab = \"Rsq\", type = \"b\", pch = 19,\n",
    "  col = \"red\"\n",
    ")"
   ]
  },
  {
   "cell_type": "code",
   "execution_count": 10,
   "id": "042019ff-06ae-4c5e-8d95-89843f367f7a",
   "metadata": {},
   "outputs": [
    {
     "data": {
      "text/html": [
       "<table class=\"dataframe\">\n",
       "<caption>A tibble: 1 × 12</caption>\n",
       "<thead>\n",
       "\t<tr><th scope=col>r.squared</th><th scope=col>adj.r.squared</th><th scope=col>sigma</th><th scope=col>statistic</th><th scope=col>p.value</th><th scope=col>df</th><th scope=col>logLik</th><th scope=col>AIC</th><th scope=col>BIC</th><th scope=col>deviance</th><th scope=col>df.residual</th><th scope=col>nobs</th></tr>\n",
       "\t<tr><th scope=col>&lt;dbl&gt;</th><th scope=col>&lt;dbl&gt;</th><th scope=col>&lt;dbl&gt;</th><th scope=col>&lt;dbl&gt;</th><th scope=col>&lt;dbl&gt;</th><th scope=col>&lt;dbl&gt;</th><th scope=col>&lt;dbl&gt;</th><th scope=col>&lt;dbl&gt;</th><th scope=col>&lt;dbl&gt;</th><th scope=col>&lt;dbl&gt;</th><th scope=col>&lt;dbl&gt;</th><th scope=col>&lt;dbl&gt;</th></tr>\n",
       "</thead>\n",
       "<tbody>\n",
       "\t<tr><td>0.799</td><td>0.792</td><td>5535821122</td><td>113.715</td><td>0</td><td>16</td><td>-11345.58</td><td>22727.17</td><td>22802.15</td><td>1.40662e+22</td><td>459</td><td>476</td></tr>\n",
       "</tbody>\n",
       "</table>\n"
      ],
      "text/latex": [
       "A tibble: 1 × 12\n",
       "\\begin{tabular}{llllllllllll}\n",
       " r.squared & adj.r.squared & sigma & statistic & p.value & df & logLik & AIC & BIC & deviance & df.residual & nobs\\\\\n",
       " <dbl> & <dbl> & <dbl> & <dbl> & <dbl> & <dbl> & <dbl> & <dbl> & <dbl> & <dbl> & <dbl> & <dbl>\\\\\n",
       "\\hline\n",
       "\t 0.799 & 0.792 & 5535821122 & 113.715 & 0 & 16 & -11345.58 & 22727.17 & 22802.15 & 1.40662e+22 & 459 & 476\\\\\n",
       "\\end{tabular}\n"
      ],
      "text/markdown": [
       "\n",
       "A tibble: 1 × 12\n",
       "\n",
       "| r.squared &lt;dbl&gt; | adj.r.squared &lt;dbl&gt; | sigma &lt;dbl&gt; | statistic &lt;dbl&gt; | p.value &lt;dbl&gt; | df &lt;dbl&gt; | logLik &lt;dbl&gt; | AIC &lt;dbl&gt; | BIC &lt;dbl&gt; | deviance &lt;dbl&gt; | df.residual &lt;dbl&gt; | nobs &lt;dbl&gt; |\n",
       "|---|---|---|---|---|---|---|---|---|---|---|---|\n",
       "| 0.799 | 0.792 | 5535821122 | 113.715 | 0 | 16 | -11345.58 | 22727.17 | 22802.15 | 1.40662e+22 | 459 | 476 |\n",
       "\n"
      ],
      "text/plain": [
       "  r.squared adj.r.squared sigma      statistic p.value df logLik    AIC     \n",
       "1 0.799     0.792         5535821122 113.715   0       16 -11345.58 22727.17\n",
       "  BIC      deviance    df.residual nobs\n",
       "1 22802.15 1.40662e+22 459         476 "
      ]
     },
     "metadata": {},
     "output_type": "display_data"
    },
    {
     "data": {
      "text/html": [
       "<table class=\"dataframe\">\n",
       "<caption>A tibble: 1 × 12</caption>\n",
       "<thead>\n",
       "\t<tr><th scope=col>r.squared</th><th scope=col>adj.r.squared</th><th scope=col>sigma</th><th scope=col>statistic</th><th scope=col>p.value</th><th scope=col>df</th><th scope=col>logLik</th><th scope=col>AIC</th><th scope=col>BIC</th><th scope=col>deviance</th><th scope=col>df.residual</th><th scope=col>nobs</th></tr>\n",
       "\t<tr><th scope=col>&lt;dbl&gt;</th><th scope=col>&lt;dbl&gt;</th><th scope=col>&lt;dbl&gt;</th><th scope=col>&lt;dbl&gt;</th><th scope=col>&lt;dbl&gt;</th><th scope=col>&lt;dbl&gt;</th><th scope=col>&lt;dbl&gt;</th><th scope=col>&lt;dbl&gt;</th><th scope=col>&lt;dbl&gt;</th><th scope=col>&lt;dbl&gt;</th><th scope=col>&lt;dbl&gt;</th><th scope=col>&lt;dbl&gt;</th></tr>\n",
       "</thead>\n",
       "<tbody>\n",
       "\t<tr><td>0.8</td><td>0.792</td><td>5533270634</td><td>101.308</td><td>0</td><td>18</td><td>-11344.33</td><td>22728.65</td><td>22811.96</td><td>1.399201e+22</td><td>457</td><td>476</td></tr>\n",
       "</tbody>\n",
       "</table>\n"
      ],
      "text/latex": [
       "A tibble: 1 × 12\n",
       "\\begin{tabular}{llllllllllll}\n",
       " r.squared & adj.r.squared & sigma & statistic & p.value & df & logLik & AIC & BIC & deviance & df.residual & nobs\\\\\n",
       " <dbl> & <dbl> & <dbl> & <dbl> & <dbl> & <dbl> & <dbl> & <dbl> & <dbl> & <dbl> & <dbl> & <dbl>\\\\\n",
       "\\hline\n",
       "\t 0.8 & 0.792 & 5533270634 & 101.308 & 0 & 18 & -11344.33 & 22728.65 & 22811.96 & 1.399201e+22 & 457 & 476\\\\\n",
       "\\end{tabular}\n"
      ],
      "text/markdown": [
       "\n",
       "A tibble: 1 × 12\n",
       "\n",
       "| r.squared &lt;dbl&gt; | adj.r.squared &lt;dbl&gt; | sigma &lt;dbl&gt; | statistic &lt;dbl&gt; | p.value &lt;dbl&gt; | df &lt;dbl&gt; | logLik &lt;dbl&gt; | AIC &lt;dbl&gt; | BIC &lt;dbl&gt; | deviance &lt;dbl&gt; | df.residual &lt;dbl&gt; | nobs &lt;dbl&gt; |\n",
       "|---|---|---|---|---|---|---|---|---|---|---|---|\n",
       "| 0.8 | 0.792 | 5533270634 | 101.308 | 0 | 18 | -11344.33 | 22728.65 | 22811.96 | 1.399201e+22 | 457 | 476 |\n",
       "\n"
      ],
      "text/plain": [
       "  r.squared adj.r.squared sigma      statistic p.value df logLik    AIC     \n",
       "1 0.8       0.792         5533270634 101.308   0       18 -11344.33 22728.65\n",
       "  BIC      deviance     df.residual nobs\n",
       "1 22811.96 1.399201e+22 457         476 "
      ]
     },
     "metadata": {},
     "output_type": "display_data"
    },
    {
     "data": {
      "text/html": [
       "<table class=\"dataframe\">\n",
       "<caption>A tibble: 1 × 12</caption>\n",
       "<thead>\n",
       "\t<tr><th scope=col>r.squared</th><th scope=col>adj.r.squared</th><th scope=col>sigma</th><th scope=col>statistic</th><th scope=col>p.value</th><th scope=col>df</th><th scope=col>logLik</th><th scope=col>AIC</th><th scope=col>BIC</th><th scope=col>deviance</th><th scope=col>df.residual</th><th scope=col>nobs</th></tr>\n",
       "\t<tr><th scope=col>&lt;dbl&gt;</th><th scope=col>&lt;dbl&gt;</th><th scope=col>&lt;dbl&gt;</th><th scope=col>&lt;dbl&gt;</th><th scope=col>&lt;dbl&gt;</th><th scope=col>&lt;dbl&gt;</th><th scope=col>&lt;dbl&gt;</th><th scope=col>&lt;dbl&gt;</th><th scope=col>&lt;dbl&gt;</th><th scope=col>&lt;dbl&gt;</th><th scope=col>&lt;dbl&gt;</th><th scope=col>&lt;dbl&gt;</th></tr>\n",
       "</thead>\n",
       "<tbody>\n",
       "\t<tr><td>0.788</td><td>0.781</td><td>5668480452</td><td>114.203</td><td>0</td><td>15</td><td>-11357.37</td><td>22748.75</td><td>22819.56</td><td>1.478057e+22</td><td>460</td><td>476</td></tr>\n",
       "</tbody>\n",
       "</table>\n"
      ],
      "text/latex": [
       "A tibble: 1 × 12\n",
       "\\begin{tabular}{llllllllllll}\n",
       " r.squared & adj.r.squared & sigma & statistic & p.value & df & logLik & AIC & BIC & deviance & df.residual & nobs\\\\\n",
       " <dbl> & <dbl> & <dbl> & <dbl> & <dbl> & <dbl> & <dbl> & <dbl> & <dbl> & <dbl> & <dbl> & <dbl>\\\\\n",
       "\\hline\n",
       "\t 0.788 & 0.781 & 5668480452 & 114.203 & 0 & 15 & -11357.37 & 22748.75 & 22819.56 & 1.478057e+22 & 460 & 476\\\\\n",
       "\\end{tabular}\n"
      ],
      "text/markdown": [
       "\n",
       "A tibble: 1 × 12\n",
       "\n",
       "| r.squared &lt;dbl&gt; | adj.r.squared &lt;dbl&gt; | sigma &lt;dbl&gt; | statistic &lt;dbl&gt; | p.value &lt;dbl&gt; | df &lt;dbl&gt; | logLik &lt;dbl&gt; | AIC &lt;dbl&gt; | BIC &lt;dbl&gt; | deviance &lt;dbl&gt; | df.residual &lt;dbl&gt; | nobs &lt;dbl&gt; |\n",
       "|---|---|---|---|---|---|---|---|---|---|---|---|\n",
       "| 0.788 | 0.781 | 5668480452 | 114.203 | 0 | 15 | -11357.37 | 22748.75 | 22819.56 | 1.478057e+22 | 460 | 476 |\n",
       "\n"
      ],
      "text/plain": [
       "  r.squared adj.r.squared sigma      statistic p.value df logLik    AIC     \n",
       "1 0.788     0.781         5668480452 114.203   0       15 -11357.37 22748.75\n",
       "  BIC      deviance     df.residual nobs\n",
       "1 22819.56 1.478057e+22 460         476 "
      ]
     },
     "metadata": {},
     "output_type": "display_data"
    }
   ],
   "source": [
    "new_model_summary<-glance(new_model)%>% mutate_if(is.numeric, round, 3)\n",
    "full_model_summary<-glance(full_interaction)%>% mutate_if(is.numeric, round, 3)\n",
    "with_interaction_summary<-glance(with_interaction)%>% mutate_if(is.numeric, round, 3)\n",
    "new_model_summary\n",
    "full_model_summary\n",
    "with_interaction_summary"
   ]
  },
  {
   "cell_type": "markdown",
   "id": "413bd4fd-c0c8-4883-ab3a-b1904f15fddb",
   "metadata": {},
   "source": [
    "1. lowest cp with 8 params and best adj.r^2\n",
    "2. consider including interaction plots\n",
    "3. Can use f-stat as model diagnostic, comparing for different models, higher the better (more the model explains the variation) "
   ]
  },
  {
   "cell_type": "code",
   "execution_count": 11,
   "id": "b1b0a550-627b-4fc8-a8fc-aef3485a3ef8",
   "metadata": {},
   "outputs": [
    {
     "data": {
      "text/html": [
       "<table class=\"dataframe\">\n",
       "<caption>A anova: 2 × 6</caption>\n",
       "<thead>\n",
       "\t<tr><th></th><th scope=col>Res.Df</th><th scope=col>RSS</th><th scope=col>Df</th><th scope=col>Sum of Sq</th><th scope=col>F</th><th scope=col>Pr(&gt;F)</th></tr>\n",
       "\t<tr><th></th><th scope=col>&lt;dbl&gt;</th><th scope=col>&lt;dbl&gt;</th><th scope=col>&lt;dbl&gt;</th><th scope=col>&lt;dbl&gt;</th><th scope=col>&lt;dbl&gt;</th><th scope=col>&lt;dbl&gt;</th></tr>\n",
       "</thead>\n",
       "<tbody>\n",
       "\t<tr><th scope=row>1</th><td>459</td><td>1.406620e+22</td><td>NA</td><td>          NA</td><td>      NA</td><td>       NA</td></tr>\n",
       "\t<tr><th scope=row>2</th><td>457</td><td>1.399201e+22</td><td> 2</td><td>7.419246e+19</td><td>1.211619</td><td>0.2986695</td></tr>\n",
       "</tbody>\n",
       "</table>\n"
      ],
      "text/latex": [
       "A anova: 2 × 6\n",
       "\\begin{tabular}{r|llllll}\n",
       "  & Res.Df & RSS & Df & Sum of Sq & F & Pr(>F)\\\\\n",
       "  & <dbl> & <dbl> & <dbl> & <dbl> & <dbl> & <dbl>\\\\\n",
       "\\hline\n",
       "\t1 & 459 & 1.406620e+22 & NA &           NA &       NA &        NA\\\\\n",
       "\t2 & 457 & 1.399201e+22 &  2 & 7.419246e+19 & 1.211619 & 0.2986695\\\\\n",
       "\\end{tabular}\n"
      ],
      "text/markdown": [
       "\n",
       "A anova: 2 × 6\n",
       "\n",
       "| <!--/--> | Res.Df &lt;dbl&gt; | RSS &lt;dbl&gt; | Df &lt;dbl&gt; | Sum of Sq &lt;dbl&gt; | F &lt;dbl&gt; | Pr(&gt;F) &lt;dbl&gt; |\n",
       "|---|---|---|---|---|---|---|\n",
       "| 1 | 459 | 1.406620e+22 | NA |           NA |       NA |        NA |\n",
       "| 2 | 457 | 1.399201e+22 |  2 | 7.419246e+19 | 1.211619 | 0.2986695 |\n",
       "\n"
      ],
      "text/plain": [
       "  Res.Df RSS          Df Sum of Sq    F        Pr(>F)   \n",
       "1 459    1.406620e+22 NA           NA       NA        NA\n",
       "2 457    1.399201e+22  2 7.419246e+19 1.211619 0.2986695"
      ]
     },
     "metadata": {},
     "output_type": "display_data"
    },
    {
     "data": {
      "text/html": [
       "<table class=\"dataframe\">\n",
       "<caption>A anova: 2 × 6</caption>\n",
       "<thead>\n",
       "\t<tr><th></th><th scope=col>Res.Df</th><th scope=col>RSS</th><th scope=col>Df</th><th scope=col>Sum of Sq</th><th scope=col>F</th><th scope=col>Pr(&gt;F)</th></tr>\n",
       "\t<tr><th></th><th scope=col>&lt;dbl&gt;</th><th scope=col>&lt;dbl&gt;</th><th scope=col>&lt;dbl&gt;</th><th scope=col>&lt;dbl&gt;</th><th scope=col>&lt;dbl&gt;</th><th scope=col>&lt;dbl&gt;</th></tr>\n",
       "</thead>\n",
       "<tbody>\n",
       "\t<tr><th scope=row>1</th><td>459</td><td>1.406620e+22</td><td>NA</td><td>           NA</td><td>      NA</td><td>          NA</td></tr>\n",
       "\t<tr><th scope=row>2</th><td>460</td><td>1.478057e+22</td><td>-1</td><td>-7.143687e+20</td><td>23.31086</td><td>1.880343e-06</td></tr>\n",
       "</tbody>\n",
       "</table>\n"
      ],
      "text/latex": [
       "A anova: 2 × 6\n",
       "\\begin{tabular}{r|llllll}\n",
       "  & Res.Df & RSS & Df & Sum of Sq & F & Pr(>F)\\\\\n",
       "  & <dbl> & <dbl> & <dbl> & <dbl> & <dbl> & <dbl>\\\\\n",
       "\\hline\n",
       "\t1 & 459 & 1.406620e+22 & NA &            NA &       NA &           NA\\\\\n",
       "\t2 & 460 & 1.478057e+22 & -1 & -7.143687e+20 & 23.31086 & 1.880343e-06\\\\\n",
       "\\end{tabular}\n"
      ],
      "text/markdown": [
       "\n",
       "A anova: 2 × 6\n",
       "\n",
       "| <!--/--> | Res.Df &lt;dbl&gt; | RSS &lt;dbl&gt; | Df &lt;dbl&gt; | Sum of Sq &lt;dbl&gt; | F &lt;dbl&gt; | Pr(&gt;F) &lt;dbl&gt; |\n",
       "|---|---|---|---|---|---|---|\n",
       "| 1 | 459 | 1.406620e+22 | NA |            NA |       NA |           NA |\n",
       "| 2 | 460 | 1.478057e+22 | -1 | -7.143687e+20 | 23.31086 | 1.880343e-06 |\n",
       "\n"
      ],
      "text/plain": [
       "  Res.Df RSS          Df Sum of Sq     F        Pr(>F)      \n",
       "1 459    1.406620e+22 NA            NA       NA           NA\n",
       "2 460    1.478057e+22 -1 -7.143687e+20 23.31086 1.880343e-06"
      ]
     },
     "metadata": {},
     "output_type": "display_data"
    },
    {
     "data": {
      "text/html": [
       "<table class=\"dataframe\">\n",
       "<caption>A anova: 2 × 6</caption>\n",
       "<thead>\n",
       "\t<tr><th></th><th scope=col>Res.Df</th><th scope=col>RSS</th><th scope=col>Df</th><th scope=col>Sum of Sq</th><th scope=col>F</th><th scope=col>Pr(&gt;F)</th></tr>\n",
       "\t<tr><th></th><th scope=col>&lt;dbl&gt;</th><th scope=col>&lt;dbl&gt;</th><th scope=col>&lt;dbl&gt;</th><th scope=col>&lt;dbl&gt;</th><th scope=col>&lt;dbl&gt;</th><th scope=col>&lt;dbl&gt;</th></tr>\n",
       "</thead>\n",
       "<tbody>\n",
       "\t<tr><th scope=row>1</th><td>457</td><td>1.399201e+22</td><td>NA</td><td>           NA</td><td>      NA</td><td>          NA</td></tr>\n",
       "\t<tr><th scope=row>2</th><td>460</td><td>1.478057e+22</td><td>-3</td><td>-7.885611e+20</td><td>8.585198</td><td>1.483382e-05</td></tr>\n",
       "</tbody>\n",
       "</table>\n"
      ],
      "text/latex": [
       "A anova: 2 × 6\n",
       "\\begin{tabular}{r|llllll}\n",
       "  & Res.Df & RSS & Df & Sum of Sq & F & Pr(>F)\\\\\n",
       "  & <dbl> & <dbl> & <dbl> & <dbl> & <dbl> & <dbl>\\\\\n",
       "\\hline\n",
       "\t1 & 457 & 1.399201e+22 & NA &            NA &       NA &           NA\\\\\n",
       "\t2 & 460 & 1.478057e+22 & -3 & -7.885611e+20 & 8.585198 & 1.483382e-05\\\\\n",
       "\\end{tabular}\n"
      ],
      "text/markdown": [
       "\n",
       "A anova: 2 × 6\n",
       "\n",
       "| <!--/--> | Res.Df &lt;dbl&gt; | RSS &lt;dbl&gt; | Df &lt;dbl&gt; | Sum of Sq &lt;dbl&gt; | F &lt;dbl&gt; | Pr(&gt;F) &lt;dbl&gt; |\n",
       "|---|---|---|---|---|---|---|\n",
       "| 1 | 457 | 1.399201e+22 | NA |            NA |       NA |           NA |\n",
       "| 2 | 460 | 1.478057e+22 | -3 | -7.885611e+20 | 8.585198 | 1.483382e-05 |\n",
       "\n"
      ],
      "text/plain": [
       "  Res.Df RSS          Df Sum of Sq     F        Pr(>F)      \n",
       "1 457    1.399201e+22 NA            NA       NA           NA\n",
       "2 460    1.478057e+22 -3 -7.885611e+20 8.585198 1.483382e-05"
      ]
     },
     "metadata": {},
     "output_type": "display_data"
    }
   ],
   "source": [
    "anova_1<-anova(new_model, full_interaction)\n",
    "anova_2<-anova(new_model, with_interaction)\n",
    "anova_3<-anova(full_interaction, with_interaction)\n",
    "anova_1\n",
    "anova_2\n",
    "anova_3"
   ]
  },
  {
   "cell_type": "code",
   "execution_count": 12,
   "id": "b057c4a1-3f7f-41d7-a03e-c682daccfc1c",
   "metadata": {},
   "outputs": [
    {
     "data": {
      "text/html": [
       "<style>\n",
       ".dl-inline {width: auto; margin:0; padding: 0}\n",
       ".dl-inline>dt, .dl-inline>dd {float: none; width: auto; display: inline-block}\n",
       ".dl-inline>dt::after {content: \":\\0020\"; padding-right: .5ex}\n",
       ".dl-inline>dt:not(:first-of-type) {padding-left: .5ex}\n",
       "</style><dl class=dl-inline><dt>8</dt><dd>69774680515.5102</dd><dt>15</dt><dd>51411750614.8558</dd><dt>20</dt><dd>45362640219.2434</dd></dl>\n"
      ],
      "text/latex": [
       "\\begin{description*}\n",
       "\\item[8] 69774680515.5102\n",
       "\\item[15] 51411750614.8558\n",
       "\\item[20] 45362640219.2434\n",
       "\\end{description*}\n"
      ],
      "text/markdown": [
       "8\n",
       ":   69774680515.510215\n",
       ":   51411750614.855820\n",
       ":   45362640219.2434\n",
       "\n"
      ],
      "text/plain": [
       "          8          15          20 \n",
       "69774680516 51411750615 45362640219 "
      ]
     },
     "metadata": {},
     "output_type": "display_data"
    }
   ],
   "source": [
    "prediction_model<-predict(new_model, newdata=data_test)\n",
    "head(prediction_model, 3)"
   ]
  },
  {
   "cell_type": "code",
   "execution_count": 32,
   "id": "fd342005-2524-49a7-a19c-66aaecf01d99",
   "metadata": {},
   "outputs": [],
   "source": [
    "pair_plots <- data_train %>%\n",
    "  select(- video.views) %>% \n",
    "  ggpairs(progress = FALSE) +\n",
    "  theme(\n",
    "    text = element_text(size = 15),\n",
    "    plot.title = element_text(face = \"bold\"),\n",
    "    axis.title = element_text(face = \"bold\")\n",
    "  )\n"
   ]
  },
  {
   "cell_type": "code",
   "execution_count": 45,
   "id": "07f413af-0d24-4f2b-835d-9158e765f9c6",
   "metadata": {},
   "outputs": [
    {
     "data": {
      "text/html": [],
      "text/latex": [],
      "text/markdown": [],
      "text/plain": [
       "integer(0)"
      ]
     },
     "metadata": {},
     "output_type": "display_data"
    },
    {
     "data": {
      "image/png": "[encoded data removed]",
      "text/plain": [
       "plot without title"
      ]
     },
     "metadata": {
      "image/png": {
       "height": 420,
       "width": 420
      }
     },
     "output_type": "display_data"
    },
    {
     "data": {
      "text/plain": [
       "NULL"
      ]
     },
     "metadata": {},
     "output_type": "display_data"
    },
    {
     "ename": "ERROR",
     "evalue": "Error in qqnorm(res) + qqline(res): non-numeric argument to binary operator\n",
     "output_type": "error",
     "traceback": [
      "Error in qqnorm(res) + qqline(res): non-numeric argument to binary operator\nTraceback:\n"
     ]
    },
    {
     "data": {
      "image/png": "[encoded data removed]",
      "text/plain": [
       "Plot with title “density.default(x = res)”"
      ]
     },
     "metadata": {
      "image/png": {
       "height": 420,
       "width": 420
      }
     },
     "output_type": "display_data"
    },
    {
     "data": {
      "image/png": "[encoded data removed]",
      "text/plain": [
       "Plot with title “Normal Q-Q Plot”"
      ]
     },
     "metadata": {
      "image/png": {
       "height": 420,
       "width": 420
      }
     },
     "output_type": "display_data"
    }
   ],
   "source": [
    "#residual plot\n",
    "res<-resid(new_model)\n",
    "resid_plot<-plot(fitted(new_model), res)+\n",
    "    abline(0,0)\n",
    "resid_plot\n",
    "density_plot<-plot(density(res))\n",
    "density_plot\n",
    "qq_plot<-qqnorm(res)+\n",
    "    qqline(res)\n",
    "qq_lot\n"
   ]
  },
  {
   "cell_type": "markdown",
   "id": "288a9685-e1fb-4a29-a982-b243f184ddf3",
   "metadata": {},
   "source": [
    "Assumptions: \n",
    "1. linearity: shows violation of Homoscedasticity (non-constant variance) \n",
    "2. Normally distributed residuals: from the qq plot we can see that the residuals near both tails do not follow a normal distribution, however, if we observe our density plot, we can see that the residuals appear relatively normally distributed (wiuth slight skewness) "
   ]
  },
  {
   "cell_type": "code",
   "execution_count": 46,
   "id": "8a6e051d-7e5a-4ae4-ad23-9a3dbb1730cc",
   "metadata": {},
   "outputs": [
    {
     "data": {
      "text/plain": [
       "  subscribers         video.views         video.count         category        \n",
       " Min.   : 10900000   Min.   :1.066e+07   Min.   :    12.0   Length:476        \n",
       " 1st Qu.: 12700000   1st Qu.:4.053e+09   1st Qu.:   278.0   Class :character  \n",
       " Median : 15200000   Median :6.702e+09   Median :   817.5   Mode  :character  \n",
       " Mean   : 19974580   Mean   :9.551e+09   Mean   :  7528.7                     \n",
       " 3rd Qu.: 21750000   3rd Qu.:1.212e+10   3rd Qu.:  3096.8                     \n",
       " Max.   :222000000   Max.   :1.985e+11   Max.   :224455.0                     \n",
       "    started    \n",
       " Min.   :2005  \n",
       " 1st Qu.:2009  \n",
       " Median :2013  \n",
       " Mean   :2012  \n",
       " 3rd Qu.:2015  \n",
       " Max.   :2021  "
      ]
     },
     "metadata": {},
     "output_type": "display_data"
    }
   ],
   "source": [
    "summary(data_train)"
   ]
  },
  {
   "cell_type": "code",
   "execution_count": 50,
   "id": "9aaefca9-09a0-4bc2-a51f-d39c56b52614",
   "metadata": {},
   "outputs": [
    {
     "data": {
      "image/png": "[encoded data removed]",
      "text/plain": [
       "Plot with title “Histogram of data_train$subscribers”"
      ]
     },
     "metadata": {
      "image/png": {
       "height": 420,
       "width": 420
      }
     },
     "output_type": "display_data"
    },
    {
     "data": {
      "image/png": "[encoded data removed]",
      "text/plain": [
       "plot without title"
      ]
     },
     "metadata": {
      "image/png": {
       "height": 420,
       "width": 420
      }
     },
     "output_type": "display_data"
    }
   ],
   "source": [
    "hist(data_train$subscribers)\n",
    "boxplot(data_train$subscribers)\n",
    "\n"
   ]
  },
  {
   "cell_type": "markdown",
   "id": "1e3862a3-fe11-416b-9091-7a7085c9ddba",
   "metadata": {},
   "source": [
    "Topics to bring up: \n",
    "I think we should remove outliers, they could be leading to the non-normally distributed residuals and non-constant varaince, and thus leading to viiolations in the assumptions in regression... \n",
    "Note: actually, we should certainly remove the outliers from the data.... \n",
    "--> as we can see from the plot above, there is a clear outlier towards the right tail end of the data (and from boxplot)\n",
    "--> if we want to remove them, refer to this page: https://statsandr.com/blog/outliers-detection-in-r/\n"
   ]
  },
  {
   "cell_type": "code",
   "execution_count": null,
   "id": "170dcb24-6f16-405a-9693-0bd69c1fe431",
   "metadata": {},
   "outputs": [],
   "source": []
  },
  {
   "cell_type": "code",
   "execution_count": null,
   "id": "fa5a45ed-f1a1-471e-9abf-ff0c1e3fdf27",
   "metadata": {},
   "outputs": [],
   "source": []
  }
 ],
 "metadata": {
  "kernelspec": {
   "display_name": "R",
   "language": "R",
   "name": "ir"
  },
  "language_info": {
   "codemirror_mode": "r",
   "file_extension": ".r",
   "mimetype": "text/x-r-source",
   "name": "R",
   "pygments_lexer": "r",
   "version": "4.1.3"
  }
 },
 "nbformat": 4,
 "nbformat_minor": 5
}
